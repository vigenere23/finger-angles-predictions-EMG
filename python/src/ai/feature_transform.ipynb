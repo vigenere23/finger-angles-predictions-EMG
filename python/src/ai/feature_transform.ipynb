{
 "cells": [
  {
   "cell_type": "code",
   "execution_count": 71,
   "metadata": {},
   "outputs": [],
   "source": [
    "#from transform import *\n",
    "from utilities import load_csv_data\n",
    "import os "
   ]
  },
  {
   "cell_type": "markdown",
   "metadata": {},
   "source": [
    "## import the csv file for the EMG"
   ]
  },
  {
   "cell_type": "code",
   "execution_count": 2,
   "metadata": {},
   "outputs": [
    {
     "data": {
      "text/plain": [
       "'d:\\\\Programming and learning\\\\Bioinstrument\\\\FingerRegress\\\\biomed-a21\\\\python\\\\src\\\\ai'"
      ]
     },
     "execution_count": 2,
     "metadata": {},
     "output_type": "execute_result"
    }
   ],
   "source": [
    "os.getcwd()"
   ]
  },
  {
   "cell_type": "code",
   "execution_count": 72,
   "metadata": {},
   "outputs": [],
   "source": [
    "dirname = r\"acq-3\"\n",
    "file_name_emg = \"emg-0.csv\"\n",
    "file_name_hand_angle= \"Hand_angles_record_3.csv\"\n",
    "file_path_emg = os.path.join(dirname,file_name_emg)\n",
    "file_path_angle = os.path.join(\".\",file_name_hand_angle)\n",
    "data_emg  = load_csv_data(file_name=file_path_emg)\n",
    "data_hand_angle  = load_csv_data(file_name=file_name_hand_angle,sep=\",\",delimiter=\",\")"
   ]
  },
  {
   "cell_type": "code",
   "execution_count": 73,
   "metadata": {},
   "outputs": [
    {
     "data": {
      "text/html": [
       "<div>\n",
       "<style scoped>\n",
       "    .dataframe tbody tr th:only-of-type {\n",
       "        vertical-align: middle;\n",
       "    }\n",
       "\n",
       "    .dataframe tbody tr th {\n",
       "        vertical-align: top;\n",
       "    }\n",
       "\n",
       "    .dataframe thead th {\n",
       "        text-align: right;\n",
       "    }\n",
       "</style>\n",
       "<table border=\"1\" class=\"dataframe\">\n",
       "  <thead>\n",
       "    <tr style=\"text-align: right;\">\n",
       "      <th></th>\n",
       "      <th>timestamp</th>\n",
       "      <th>mcp angle</th>\n",
       "      <th>pip angle</th>\n",
       "      <th>dip angle</th>\n",
       "    </tr>\n",
       "  </thead>\n",
       "  <tbody>\n",
       "    <tr>\n",
       "      <td>0</td>\n",
       "      <td>1.638640e+09</td>\n",
       "      <td>30.044020</td>\n",
       "      <td>16.874167</td>\n",
       "      <td>4.065900</td>\n",
       "    </tr>\n",
       "    <tr>\n",
       "      <td>1</td>\n",
       "      <td>1.638640e+09</td>\n",
       "      <td>30.242750</td>\n",
       "      <td>16.904562</td>\n",
       "      <td>5.131242</td>\n",
       "    </tr>\n",
       "    <tr>\n",
       "      <td>2</td>\n",
       "      <td>1.638640e+09</td>\n",
       "      <td>29.861519</td>\n",
       "      <td>16.800011</td>\n",
       "      <td>4.258537</td>\n",
       "    </tr>\n",
       "    <tr>\n",
       "      <td>3</td>\n",
       "      <td>1.638640e+09</td>\n",
       "      <td>30.575831</td>\n",
       "      <td>17.090059</td>\n",
       "      <td>4.463044</td>\n",
       "    </tr>\n",
       "    <tr>\n",
       "      <td>4</td>\n",
       "      <td>1.638640e+09</td>\n",
       "      <td>30.278286</td>\n",
       "      <td>16.910310</td>\n",
       "      <td>3.889203</td>\n",
       "    </tr>\n",
       "  </tbody>\n",
       "</table>\n",
       "</div>"
      ],
      "text/plain": [
       "      timestamp  mcp angle  pip angle  dip angle\n",
       "0  1.638640e+09  30.044020  16.874167   4.065900\n",
       "1  1.638640e+09  30.242750  16.904562   5.131242\n",
       "2  1.638640e+09  29.861519  16.800011   4.258537\n",
       "3  1.638640e+09  30.575831  17.090059   4.463044\n",
       "4  1.638640e+09  30.278286  16.910310   3.889203"
      ]
     },
     "execution_count": 73,
     "metadata": {},
     "output_type": "execute_result"
    }
   ],
   "source": [
    "data_hand_angle.head()"
   ]
  },
  {
   "cell_type": "code",
   "execution_count": 74,
   "metadata": {},
   "outputs": [
    {
     "name": "stdout",
     "output_type": "stream",
     "text": [
      "Angle measure ->the min time is 1638639900.053265 and the max time is 1638639932.984208\n"
     ]
    }
   ],
   "source": [
    "print(f\"Angle measure ->the min time is {data_hand_angle.timestamp.min()} and the max time is {data_hand_angle.timestamp.max()}\")"
   ]
  },
  {
   "cell_type": "code",
   "execution_count": 75,
   "metadata": {},
   "outputs": [
    {
     "name": "stdout",
     "output_type": "stream",
     "text": [
      "EMG measure ->the min time is 1638639859.641768 and the max time is 1638639942.4269779\n"
     ]
    }
   ],
   "source": [
    "print(f\"EMG measure ->the min time is {data_emg.timestamp.min()} and the max time is {data_emg.timestamp.max()}\")"
   ]
  },
  {
   "cell_type": "markdown",
   "metadata": {},
   "source": [
    "### We take the smallest min time as the min time of ref.We do the same for the max time\n",
    "the start time is from EMG measure and the end time is from Angle Measure"
   ]
  },
  {
   "cell_type": "code",
   "execution_count": 76,
   "metadata": {},
   "outputs": [],
   "source": [
    "\n",
    "time_recording = data_hand_angle.timestamp.max()-data_hand_angle.timestamp.min()"
   ]
  },
  {
   "cell_type": "code",
   "execution_count": 77,
   "metadata": {},
   "outputs": [
    {
     "data": {
      "text/plain": [
       "32.93094301223755"
      ]
     },
     "execution_count": 77,
     "metadata": {},
     "output_type": "execute_result"
    }
   ],
   "source": [
    "time_recording"
   ]
  },
  {
   "cell_type": "code",
   "execution_count": 78,
   "metadata": {},
   "outputs": [
    {
     "data": {
      "text/plain": [
       "32.93094301223755"
      ]
     },
     "execution_count": 78,
     "metadata": {},
     "output_type": "execute_result"
    }
   ],
   "source": [
    "#difference between the min and the max for time recording of data_hangle\n",
    "data_hand_angle.timestamp.max()-data_hand_angle.timestamp.min()"
   ]
  },
  {
   "cell_type": "code",
   "execution_count": 200,
   "metadata": {},
   "outputs": [],
   "source": [
    "start = data_hand_angle.timestamp.min()\n",
    "end =  data_hand_angle.timestamp.max()"
   ]
  },
  {
   "cell_type": "code",
   "execution_count": 203,
   "metadata": {},
   "outputs": [],
   "source": [
    "#the start time is from EMG measure and the end time is from Angle Measure\n",
    "emg_crop = data_emg.loc[(data_emg.timestamp>start) & (data_emg.timestamp<end)]\n",
    "angle_crop=data_hand_angle[(data_hand_angle.timestamp>start) & (data_hand_angle.timestamp<end)]"
   ]
  },
  {
   "cell_type": "code",
   "execution_count": 204,
   "metadata": {},
   "outputs": [],
   "source": [
    "emg_crop.reset_index(drop=True, inplace=True)\n",
    "angle_crop.reset_index(drop=True, inplace=True)"
   ]
  },
  {
   "cell_type": "code",
   "execution_count": 206,
   "metadata": {},
   "outputs": [],
   "source": [
    "from sklearn.base import BaseEstimator, TransformerMixin\n",
    "from utilities import *\n",
    "import numpy as np\n",
    "\n",
    "\n",
    "class WindowsTransformer(BaseEstimator, TransformerMixin):\n",
    "    def __init__(self,windows_number,factor):\n",
    "        self.windows_number = windows_number\n",
    "        self.factor=factor\n",
    "\n",
    "    def fit(self, X):\n",
    "        pass\n",
    "\n",
    "    def transform(self, X,**kwargs):\n",
    "    \n",
    "        result=[]\n",
    "        len_data = X.shape[0]\n",
    "        \n",
    "        windows_size = int(len_data/self.windows_number)\n",
    "        #each window correspond to an example\n",
    "        data_windows_ch0 = [X[w*windows_size:w*windows_size+windows_size] for w in range(self.windows_number)]\n",
    "\n",
    "        result = data_windows_ch0\n",
    "        return result"
   ]
  },
  {
   "cell_type": "code",
   "execution_count": 208,
   "metadata": {},
   "outputs": [],
   "source": [
    "\n",
    "class FeaturesTransformEMG(BaseEstimator, TransformerMixin):\n",
    "    def __init__(self):\n",
    "        pass\n",
    "\n",
    "    def fit(self,X):\n",
    "        pass\n",
    "    def transform(self,X):\n",
    "        dataset =[]\n",
    "        func_params_list = [getMAV,getVar,getSD,getSSC,getZC,getRMS]\n",
    "        for exemple in X:\n",
    "            chann_1= np.array(exemple)  \n",
    "            x_1=list()\n",
    "            for func in func_params_list:\n",
    "                x_1.append(func(chann_1))\n",
    "            dataset.append(x_1)\n",
    "        return dataset\n",
    "\n",
    "class FeaturesTransformAngle(BaseEstimator, TransformerMixin):\n",
    "    def __init__(self):\n",
    "        pass\n",
    "\n",
    "    def fit(self,X):\n",
    "        pass\n",
    "    def transform(self,X): \n",
    "        return [angle.mean().tolist() for angle in X]"
   ]
  },
  {
   "cell_type": "code",
   "execution_count": null,
   "metadata": {},
   "outputs": [],
   "source": []
  },
  {
   "cell_type": "code",
   "execution_count": 209,
   "metadata": {},
   "outputs": [],
   "source": [
    "windows_transform = WindowsTransformer(32*10,1)\n",
    "angle_transformed = windows_transform.transform(angle_crop.drop(columns=[\"timestamp\"]))\n",
    "emg_transformed = windows_transform.transform(emg_crop.value)"
   ]
  },
  {
   "cell_type": "code",
   "execution_count": 211,
   "metadata": {},
   "outputs": [
    {
     "data": {
      "text/html": [
       "<div>\n",
       "<style scoped>\n",
       "    .dataframe tbody tr th:only-of-type {\n",
       "        vertical-align: middle;\n",
       "    }\n",
       "\n",
       "    .dataframe tbody tr th {\n",
       "        vertical-align: top;\n",
       "    }\n",
       "\n",
       "    .dataframe thead th {\n",
       "        text-align: right;\n",
       "    }\n",
       "</style>\n",
       "<table border=\"1\" class=\"dataframe\">\n",
       "  <thead>\n",
       "    <tr style=\"text-align: right;\">\n",
       "      <th></th>\n",
       "      <th>mcp angle</th>\n",
       "      <th>pip angle</th>\n",
       "      <th>dip angle</th>\n",
       "    </tr>\n",
       "  </thead>\n",
       "  <tbody>\n",
       "    <tr>\n",
       "      <td>0</td>\n",
       "      <td>30.242750</td>\n",
       "      <td>16.904562</td>\n",
       "      <td>5.131242</td>\n",
       "    </tr>\n",
       "    <tr>\n",
       "      <td>1</td>\n",
       "      <td>29.861519</td>\n",
       "      <td>16.800011</td>\n",
       "      <td>4.258537</td>\n",
       "    </tr>\n",
       "  </tbody>\n",
       "</table>\n",
       "</div>"
      ],
      "text/plain": [
       "   mcp angle  pip angle  dip angle\n",
       "0  30.242750  16.904562   5.131242\n",
       "1  29.861519  16.800011   4.258537"
      ]
     },
     "execution_count": 211,
     "metadata": {},
     "output_type": "execute_result"
    }
   ],
   "source": []
  },
  {
   "cell_type": "code",
   "execution_count": 195,
   "metadata": {},
   "outputs": [],
   "source": [
    "feature_angle_tr = FeaturesTransformAngle()\n",
    "feature_emg_tr = FeaturesTransformEMG()\n",
    "target = feature_angle_tr.transform(angle_transformed)\n",
    "trainset = feature_emg_tr.transform(emg_transformed)"
   ]
  },
  {
   "cell_type": "code",
   "execution_count": 217,
   "metadata": {},
   "outputs": [],
   "source": [
    "from sklearn.model_selection import train_test_split , cross_val_score ,  RepeatedKFold\n",
    "from sklearn.pipeline import make_pipeline\n",
    "from sklearn.preprocessing import scale\n",
    "from sklearn.linear_model import LinearRegression, ElasticNet\n",
    "from sklearn.metrics import r2_score\n",
    "from sklearn.feature_selection import SelectKBest, RFE, chi2"
   ]
  },
  {
   "cell_type": "code",
   "execution_count": 213,
   "metadata": {},
   "outputs": [],
   "source": [
    "trainset = scale(trainset)"
   ]
  },
  {
   "cell_type": "code",
   "execution_count": 229,
   "metadata": {},
   "outputs": [
    {
     "name": "stdout",
     "output_type": "stream",
     "text": [
      "(256, 1)\n",
      "classifiers ElasticNet\n",
      "------------------------------\n",
      "Training score 0.12251045457250864\n",
      "(256, 1)\n",
      "classifiers LinearRegression\n",
      "------------------------------\n",
      "Training score 0.02183569381272754\n"
     ]
    }
   ],
   "source": [
    "X_train, X_test, y_train, y_test = train_test_split(trainset,target, test_size=0.20, random_state=42)\n",
    "clf_lin_reg = LinearRegression() #add parametrers\n",
    "clf_lin_elastic = ElasticNet()\n",
    "classfiers = [clf_lin_elastic,clf_lin_reg]\n",
    "\n",
    "for clf in classfiers: \n",
    "    selector = RFE(clf, n_features_to_select=1).fit(X_train,np.array(y_train)[:,0])\n",
    "    X_train_transform=selector.transform(X_train)\n",
    "    print(X_train_transform.shape)\n",
    "    #X_test_transform=selector.transform(X_test)\n",
    "    print(f\"classifiers {clf.__class__.__name__}\")\n",
    "    print(\"-\"*30)\n",
    "    clf.fit(X_train_transform,np.array(y_train)[:,0])\n",
    "    train_score = r2_score(np.array(y_train)[:,0],clf.predict(X_train_transform))\n",
    "    print(f\"Training score {train_score}\")"
   ]
  },
  {
   "cell_type": "code",
   "execution_count": null,
   "metadata": {},
   "outputs": [],
   "source": [
    "cross_val_score("
   ]
  }
 ],
 "metadata": {
  "interpreter": {
   "hash": "a14d155f83bb2257fb12e2f3c2f83891a57e396734487e84545d4d0af7ebabec"
  },
  "kernelspec": {
   "display_name": "Python 3.7.6 64-bit ('venv': venv)",
   "language": "python",
   "name": "python3"
  },
  "language_info": {
   "codemirror_mode": {
    "name": "ipython",
    "version": 3
   },
   "file_extension": ".py",
   "mimetype": "text/x-python",
   "name": "python",
   "nbconvert_exporter": "python",
   "pygments_lexer": "ipython3",
   "version": "3.7.4"
  },
  "orig_nbformat": 4
 },
 "nbformat": 4,
 "nbformat_minor": 2
}
